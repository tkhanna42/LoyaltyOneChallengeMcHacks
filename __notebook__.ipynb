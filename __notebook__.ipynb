{
 "cells": [
  {
   "cell_type": "code",
   "execution_count": 1,
   "metadata": {
    "_cell_guid": "97051e9c-f556-48d4-be5e-a3c6a508a7a2",
    "_uuid": "97a96095ad9539e3f3bbc4cc590f1712b91df598"
   },
   "outputs": [
    {
     "name": "stdout",
     "output_type": "stream",
     "text": [
      "SAMPLE_TRAINING_SET.xlsx\n",
      "TEST.xlsx\n",
      "TRAINING.xlsx\n",
      "\n"
     ]
    }
   ],
   "source": [
    "# This Python 3 environment comes with many helpful analytics libraries installed\n",
    "# It is defined by the kaggle/python docker image: https://github.com/kaggle/docker-python\n",
    "# For example, here's several helpful packages to load in \n",
    "\n",
    "import numpy as np # linear algebra\n",
    "import pandas as pd # data processing, CSV file I/O (e.g. pd.read_csv)\n",
    "\n",
    "# Input data files are available in the \"../input/\" directory.\n",
    "# For example, running this (by clicking run or pressing Shift+Enter) will list the files in the input directory\n",
    "\n",
    "from subprocess import check_output\n",
    "print(check_output([\"ls\", \"../input\"]).decode(\"utf8\"))\n",
    "\n",
    "# Any results you write to the current directory are saved as output.\n",
    "from matplotlib import pyplot as plt"
   ]
  },
  {
   "cell_type": "code",
   "execution_count": 2,
   "metadata": {},
   "outputs": [],
   "source": [
    "sts = pd.read_excel('../input/SAMPLE_TRAINING_SET.xlsx')\n",
    "test = pd.read_excel('../input/TEST.xlsx')\n",
    "train = pd.read_excel('../input/TRAINING.xlsx')"
   ]
  },
  {
   "cell_type": "code",
   "execution_count": 3,
   "metadata": {},
   "outputs": [
    {
     "data": {
      "text/html": [
       "<div>\n",
       "<style>\n",
       "    .dataframe thead tr:only-child th {\n",
       "        text-align: right;\n",
       "    }\n",
       "\n",
       "    .dataframe thead th {\n",
       "        text-align: left;\n",
       "    }\n",
       "\n",
       "    .dataframe tbody tr th {\n",
       "        vertical-align: top;\n",
       "    }\n",
       "</style>\n",
       "<table border=\"1\" class=\"dataframe\">\n",
       "  <thead>\n",
       "    <tr style=\"text-align: right;\">\n",
       "      <th></th>\n",
       "      <th>ID</th>\n",
       "      <th>Q201601_MILES</th>\n",
       "      <th>Q201601_SPONSORS</th>\n",
       "      <th>Q201602_MILES</th>\n",
       "      <th>Q201602_SPONSORS</th>\n",
       "      <th>Q201603_MILES</th>\n",
       "      <th>Q201603_SPONSORS</th>\n",
       "      <th>Q201604_MILES</th>\n",
       "      <th>Q201604_SPONSORS</th>\n",
       "      <th>FLAG</th>\n",
       "      <th>...</th>\n",
       "      <th>MILES201603CREDIT_CARD</th>\n",
       "      <th>MILES201604CREDIT_CARD</th>\n",
       "      <th>MILES201601OTHER</th>\n",
       "      <th>MILES201602OTHER</th>\n",
       "      <th>MILES201603OTHER</th>\n",
       "      <th>MILES201604OTHER</th>\n",
       "      <th>PROGRAM_TIER</th>\n",
       "      <th>PROVINCE</th>\n",
       "      <th>EMAIL_OPTIN</th>\n",
       "      <th>DEC_2016_ACCOUNT_BALANCE</th>\n",
       "    </tr>\n",
       "  </thead>\n",
       "  <tbody>\n",
       "    <tr>\n",
       "      <th>0</th>\n",
       "      <td>1</td>\n",
       "      <td>58</td>\n",
       "      <td>1</td>\n",
       "      <td>36</td>\n",
       "      <td>2</td>\n",
       "      <td>38</td>\n",
       "      <td>2</td>\n",
       "      <td>72</td>\n",
       "      <td>2</td>\n",
       "      <td>0</td>\n",
       "      <td>...</td>\n",
       "      <td>0</td>\n",
       "      <td>16</td>\n",
       "      <td>0</td>\n",
       "      <td>1</td>\n",
       "      <td>1</td>\n",
       "      <td>0</td>\n",
       "      <td>B</td>\n",
       "      <td>ON</td>\n",
       "      <td>Y</td>\n",
       "      <td>266</td>\n",
       "    </tr>\n",
       "    <tr>\n",
       "      <th>1</th>\n",
       "      <td>2</td>\n",
       "      <td>43</td>\n",
       "      <td>4</td>\n",
       "      <td>153</td>\n",
       "      <td>4</td>\n",
       "      <td>186</td>\n",
       "      <td>3</td>\n",
       "      <td>246</td>\n",
       "      <td>4</td>\n",
       "      <td>1</td>\n",
       "      <td>...</td>\n",
       "      <td>174</td>\n",
       "      <td>219</td>\n",
       "      <td>7</td>\n",
       "      <td>5</td>\n",
       "      <td>0</td>\n",
       "      <td>4</td>\n",
       "      <td>B</td>\n",
       "      <td>?</td>\n",
       "      <td>N</td>\n",
       "      <td>28</td>\n",
       "    </tr>\n",
       "    <tr>\n",
       "      <th>2</th>\n",
       "      <td>4</td>\n",
       "      <td>291</td>\n",
       "      <td>8</td>\n",
       "      <td>455</td>\n",
       "      <td>4</td>\n",
       "      <td>711</td>\n",
       "      <td>7</td>\n",
       "      <td>338</td>\n",
       "      <td>8</td>\n",
       "      <td>0</td>\n",
       "      <td>...</td>\n",
       "      <td>465</td>\n",
       "      <td>123</td>\n",
       "      <td>123</td>\n",
       "      <td>112</td>\n",
       "      <td>205</td>\n",
       "      <td>165</td>\n",
       "      <td>G</td>\n",
       "      <td>AB</td>\n",
       "      <td>Y</td>\n",
       "      <td>6085</td>\n",
       "    </tr>\n",
       "    <tr>\n",
       "      <th>3</th>\n",
       "      <td>5</td>\n",
       "      <td>117</td>\n",
       "      <td>4</td>\n",
       "      <td>110</td>\n",
       "      <td>4</td>\n",
       "      <td>113</td>\n",
       "      <td>3</td>\n",
       "      <td>119</td>\n",
       "      <td>3</td>\n",
       "      <td>0</td>\n",
       "      <td>...</td>\n",
       "      <td>0</td>\n",
       "      <td>0</td>\n",
       "      <td>83</td>\n",
       "      <td>84</td>\n",
       "      <td>89</td>\n",
       "      <td>78</td>\n",
       "      <td>B</td>\n",
       "      <td>BC</td>\n",
       "      <td>Y</td>\n",
       "      <td>416</td>\n",
       "    </tr>\n",
       "    <tr>\n",
       "      <th>4</th>\n",
       "      <td>7</td>\n",
       "      <td>1222</td>\n",
       "      <td>4</td>\n",
       "      <td>2154</td>\n",
       "      <td>4</td>\n",
       "      <td>1405</td>\n",
       "      <td>4</td>\n",
       "      <td>1858</td>\n",
       "      <td>7</td>\n",
       "      <td>0</td>\n",
       "      <td>...</td>\n",
       "      <td>1367</td>\n",
       "      <td>1811</td>\n",
       "      <td>15</td>\n",
       "      <td>24</td>\n",
       "      <td>37</td>\n",
       "      <td>45</td>\n",
       "      <td>O</td>\n",
       "      <td>AB</td>\n",
       "      <td>N</td>\n",
       "      <td>13111</td>\n",
       "    </tr>\n",
       "  </tbody>\n",
       "</table>\n",
       "<p>5 rows × 26 columns</p>\n",
       "</div>"
      ],
      "text/plain": [
       "   ID  Q201601_MILES  Q201601_SPONSORS  Q201602_MILES  Q201602_SPONSORS  \\\n",
       "0   1             58                 1             36                 2   \n",
       "1   2             43                 4            153                 4   \n",
       "2   4            291                 8            455                 4   \n",
       "3   5            117                 4            110                 4   \n",
       "4   7           1222                 4           2154                 4   \n",
       "\n",
       "   Q201603_MILES  Q201603_SPONSORS  Q201604_MILES  Q201604_SPONSORS  FLAG  \\\n",
       "0             38                 2             72                 2     0   \n",
       "1            186                 3            246                 4     1   \n",
       "2            711                 7            338                 8     0   \n",
       "3            113                 3            119                 3     0   \n",
       "4           1405                 4           1858                 7     0   \n",
       "\n",
       "             ...             MILES201603CREDIT_CARD  MILES201604CREDIT_CARD  \\\n",
       "0            ...                                  0                      16   \n",
       "1            ...                                174                     219   \n",
       "2            ...                                465                     123   \n",
       "3            ...                                  0                       0   \n",
       "4            ...                               1367                    1811   \n",
       "\n",
       "   MILES201601OTHER  MILES201602OTHER  MILES201603OTHER  MILES201604OTHER  \\\n",
       "0                 0                 1                 1                 0   \n",
       "1                 7                 5                 0                 4   \n",
       "2               123               112               205               165   \n",
       "3                83                84                89                78   \n",
       "4                15                24                37                45   \n",
       "\n",
       "   PROGRAM_TIER  PROVINCE  EMAIL_OPTIN  DEC_2016_ACCOUNT_BALANCE  \n",
       "0             B        ON            Y                       266  \n",
       "1             B         ?            N                        28  \n",
       "2             G        AB            Y                      6085  \n",
       "3             B        BC            Y                       416  \n",
       "4             O        AB            N                     13111  \n",
       "\n",
       "[5 rows x 26 columns]"
      ]
     },
     "execution_count": 3,
     "metadata": {},
     "output_type": "execute_result"
    }
   ],
   "source": [
    "sts.head()"
   ]
  },
  {
   "cell_type": "code",
   "execution_count": 4,
   "metadata": {},
   "outputs": [
    {
     "data": {
      "text/html": [
       "<div>\n",
       "<style>\n",
       "    .dataframe thead tr:only-child th {\n",
       "        text-align: right;\n",
       "    }\n",
       "\n",
       "    .dataframe thead th {\n",
       "        text-align: left;\n",
       "    }\n",
       "\n",
       "    .dataframe tbody tr th {\n",
       "        vertical-align: top;\n",
       "    }\n",
       "</style>\n",
       "<table border=\"1\" class=\"dataframe\">\n",
       "  <thead>\n",
       "    <tr style=\"text-align: right;\">\n",
       "      <th></th>\n",
       "      <th>DEC_2016_ACCOUNT_BALANCE</th>\n",
       "      <th>EMAIL_OPTIN</th>\n",
       "      <th>FLAG</th>\n",
       "      <th>ID</th>\n",
       "      <th>MILES201601CREDIT_CARD</th>\n",
       "      <th>MILES201601GROCERY</th>\n",
       "      <th>MILES201601OTHER</th>\n",
       "      <th>MILES201602CREDIT_CARD</th>\n",
       "      <th>MILES201602GROCERY</th>\n",
       "      <th>MILES201602OTHER</th>\n",
       "      <th>...</th>\n",
       "      <th>PROGRAM_TIER</th>\n",
       "      <th>PROVINCE</th>\n",
       "      <th>Q201601_MILES</th>\n",
       "      <th>Q201601_SPONSORS</th>\n",
       "      <th>Q201602_MILES</th>\n",
       "      <th>Q201602_SPONSORS</th>\n",
       "      <th>Q201603_MILES</th>\n",
       "      <th>Q201603_SPONSORS</th>\n",
       "      <th>Q201604_MILES</th>\n",
       "      <th>Q201604_SPONSORS</th>\n",
       "    </tr>\n",
       "  </thead>\n",
       "  <tbody>\n",
       "    <tr>\n",
       "      <th>0</th>\n",
       "      <td>266</td>\n",
       "      <td>Y</td>\n",
       "      <td>0.0</td>\n",
       "      <td>1</td>\n",
       "      <td>0</td>\n",
       "      <td>58</td>\n",
       "      <td>0</td>\n",
       "      <td>0</td>\n",
       "      <td>35</td>\n",
       "      <td>1</td>\n",
       "      <td>...</td>\n",
       "      <td>B</td>\n",
       "      <td>ON</td>\n",
       "      <td>58</td>\n",
       "      <td>1</td>\n",
       "      <td>36</td>\n",
       "      <td>2</td>\n",
       "      <td>38</td>\n",
       "      <td>2</td>\n",
       "      <td>72</td>\n",
       "      <td>2</td>\n",
       "    </tr>\n",
       "    <tr>\n",
       "      <th>1</th>\n",
       "      <td>28</td>\n",
       "      <td>N</td>\n",
       "      <td>1.0</td>\n",
       "      <td>2</td>\n",
       "      <td>29</td>\n",
       "      <td>7</td>\n",
       "      <td>7</td>\n",
       "      <td>126</td>\n",
       "      <td>22</td>\n",
       "      <td>5</td>\n",
       "      <td>...</td>\n",
       "      <td>B</td>\n",
       "      <td>?</td>\n",
       "      <td>43</td>\n",
       "      <td>4</td>\n",
       "      <td>153</td>\n",
       "      <td>4</td>\n",
       "      <td>186</td>\n",
       "      <td>3</td>\n",
       "      <td>246</td>\n",
       "      <td>4</td>\n",
       "    </tr>\n",
       "    <tr>\n",
       "      <th>2</th>\n",
       "      <td>6085</td>\n",
       "      <td>Y</td>\n",
       "      <td>0.0</td>\n",
       "      <td>4</td>\n",
       "      <td>135</td>\n",
       "      <td>33</td>\n",
       "      <td>123</td>\n",
       "      <td>342</td>\n",
       "      <td>1</td>\n",
       "      <td>112</td>\n",
       "      <td>...</td>\n",
       "      <td>G</td>\n",
       "      <td>AB</td>\n",
       "      <td>291</td>\n",
       "      <td>8</td>\n",
       "      <td>455</td>\n",
       "      <td>4</td>\n",
       "      <td>711</td>\n",
       "      <td>7</td>\n",
       "      <td>338</td>\n",
       "      <td>8</td>\n",
       "    </tr>\n",
       "    <tr>\n",
       "      <th>3</th>\n",
       "      <td>416</td>\n",
       "      <td>Y</td>\n",
       "      <td>0.0</td>\n",
       "      <td>5</td>\n",
       "      <td>0</td>\n",
       "      <td>34</td>\n",
       "      <td>83</td>\n",
       "      <td>0</td>\n",
       "      <td>26</td>\n",
       "      <td>84</td>\n",
       "      <td>...</td>\n",
       "      <td>B</td>\n",
       "      <td>BC</td>\n",
       "      <td>117</td>\n",
       "      <td>4</td>\n",
       "      <td>110</td>\n",
       "      <td>4</td>\n",
       "      <td>113</td>\n",
       "      <td>3</td>\n",
       "      <td>119</td>\n",
       "      <td>3</td>\n",
       "    </tr>\n",
       "    <tr>\n",
       "      <th>4</th>\n",
       "      <td>13111</td>\n",
       "      <td>N</td>\n",
       "      <td>0.0</td>\n",
       "      <td>7</td>\n",
       "      <td>1201</td>\n",
       "      <td>6</td>\n",
       "      <td>15</td>\n",
       "      <td>2130</td>\n",
       "      <td>0</td>\n",
       "      <td>24</td>\n",
       "      <td>...</td>\n",
       "      <td>O</td>\n",
       "      <td>AB</td>\n",
       "      <td>1222</td>\n",
       "      <td>4</td>\n",
       "      <td>2154</td>\n",
       "      <td>4</td>\n",
       "      <td>1405</td>\n",
       "      <td>4</td>\n",
       "      <td>1858</td>\n",
       "      <td>7</td>\n",
       "    </tr>\n",
       "  </tbody>\n",
       "</table>\n",
       "<p>5 rows × 26 columns</p>\n",
       "</div>"
      ],
      "text/plain": [
       "   DEC_2016_ACCOUNT_BALANCE EMAIL_OPTIN  FLAG  ID  MILES201601CREDIT_CARD  \\\n",
       "0                       266           Y   0.0   1                       0   \n",
       "1                        28           N   1.0   2                      29   \n",
       "2                      6085           Y   0.0   4                     135   \n",
       "3                       416           Y   0.0   5                       0   \n",
       "4                     13111           N   0.0   7                    1201   \n",
       "\n",
       "   MILES201601GROCERY  MILES201601OTHER  MILES201602CREDIT_CARD  \\\n",
       "0                  58                 0                       0   \n",
       "1                   7                 7                     126   \n",
       "2                  33               123                     342   \n",
       "3                  34                83                       0   \n",
       "4                   6                15                    2130   \n",
       "\n",
       "   MILES201602GROCERY  MILES201602OTHER        ...         PROGRAM_TIER  \\\n",
       "0                  35                 1        ...                    B   \n",
       "1                  22                 5        ...                    B   \n",
       "2                   1               112        ...                    G   \n",
       "3                  26                84        ...                    B   \n",
       "4                   0                24        ...                    O   \n",
       "\n",
       "   PROVINCE  Q201601_MILES  Q201601_SPONSORS  Q201602_MILES  Q201602_SPONSORS  \\\n",
       "0        ON             58                 1             36                 2   \n",
       "1         ?             43                 4            153                 4   \n",
       "2        AB            291                 8            455                 4   \n",
       "3        BC            117                 4            110                 4   \n",
       "4        AB           1222                 4           2154                 4   \n",
       "\n",
       "  Q201603_MILES Q201603_SPONSORS  Q201604_MILES  Q201604_SPONSORS  \n",
       "0            38                2             72                 2  \n",
       "1           186                3            246                 4  \n",
       "2           711                7            338                 8  \n",
       "3           113                3            119                 3  \n",
       "4          1405                4           1858                 7  \n",
       "\n",
       "[5 rows x 26 columns]"
      ]
     },
     "execution_count": 4,
     "metadata": {},
     "output_type": "execute_result"
    }
   ],
   "source": [
    "X = train\n",
    "# y = train['FLAG']\n",
    "\n",
    "combined = pd.concat([X, test], axis=0)\n",
    "combined_dict = {\"X\": X, \"test\": test}\n",
    "combined.head()"
   ]
  },
  {
   "cell_type": "code",
   "execution_count": 5,
   "metadata": {},
   "outputs": [
    {
     "name": "stdout",
     "output_type": "stream",
     "text": [
      "(33887, 26)\n",
      "(11500, 25)\n"
     ]
    }
   ],
   "source": [
    "for dataset in combined_dict:\n",
    "    print(combined_dict[dataset].shape)"
   ]
  },
  {
   "cell_type": "code",
   "execution_count": 6,
   "metadata": {},
   "outputs": [],
   "source": []
  },
  {
   "cell_type": "code",
   "execution_count": 6,
   "metadata": {},
   "outputs": [
    {
     "data": {
      "text/plain": [
       "B    23054\n",
       "G     9510\n",
       "O     1295\n",
       "?       28\n",
       "Name: PROGRAM_TIER, dtype: int64"
      ]
     },
     "execution_count": 6,
     "metadata": {},
     "output_type": "execute_result"
    }
   ],
   "source": [
    "train['PROGRAM_TIER'].value_counts()"
   ]
  },
  {
   "cell_type": "code",
   "execution_count": 7,
   "metadata": {},
   "outputs": [
    {
     "data": {
      "text/plain": [
       "ON    11158\n",
       "QC     7708\n",
       "AB     4416\n",
       "BC     3237\n",
       "NS     2049\n",
       "MB     1381\n",
       "NB     1272\n",
       "NL     1002\n",
       "SK      803\n",
       "?       592\n",
       "PE      238\n",
       "NT       17\n",
       "YT       14\n",
       "Name: PROVINCE, dtype: int64"
      ]
     },
     "execution_count": 7,
     "metadata": {},
     "output_type": "execute_result"
    }
   ],
   "source": [
    "train['PROVINCE'].value_counts()"
   ]
  },
  {
   "cell_type": "code",
   "execution_count": 8,
   "metadata": {},
   "outputs": [
    {
     "data": {
      "text/plain": [
       "B    23054\n",
       "G     9510\n",
       "O     1295\n",
       "Name: PROGRAM_TIER, dtype: int64"
      ]
     },
     "execution_count": 8,
     "metadata": {},
     "output_type": "execute_result"
    }
   ],
   "source": [
    "temp = train.loc[train['PROGRAM_TIER'] != '?']\n",
    "temp['PROGRAM_TIER'].value_counts()\n"
   ]
  },
  {
   "cell_type": "code",
   "execution_count": 9,
   "metadata": {},
   "outputs": [
    {
     "data": {
      "text/plain": [
       "1    23054\n",
       "2     9510\n",
       "3     1295\n",
       "Name: PROGRAM_TIER, dtype: int64"
      ]
     },
     "execution_count": 9,
     "metadata": {},
     "output_type": "execute_result"
    }
   ],
   "source": [
    "def maptiers(v):\n",
    "    if v == \"B\":\n",
    "        return 1\n",
    "    if v == \"G\":\n",
    "        return 2\n",
    "    else:\n",
    "        return 3\n",
    "temp['PROGRAM_TIER'].apply(lambda x: maptiers(x)).value_counts()\n",
    "# ['PROGRAM_TIER'].value_counts()"
   ]
  },
  {
   "cell_type": "code",
   "execution_count": 10,
   "metadata": {},
   "outputs": [],
   "source": [
    "# define prov_dict to use to map values\n",
    "prov_dict = {\n",
    "    'ON'  :  1,\n",
    "    'QC'   :  2,\n",
    "    'AB'   :  3,\n",
    "    'BC'   :  4,\n",
    "    'NS'   :  5,\n",
    "    'MB'   :  6,\n",
    "    'NB'   :  7,\n",
    "    'NL'   :  8,\n",
    "    'SK'   :   9,\n",
    "    '?'    :   10,\n",
    "    'PE'   :   11,\n",
    "    'NT'   :    12,\n",
    "    'YT'   :    13\n",
    "}\n",
    "\n",
    "#map function:\n",
    "def map_prov(v):\n",
    "    retval = -1\n",
    "    try:\n",
    "        retval = prov_dict[v]\n",
    "    except:\n",
    "        pass\n",
    "    return retval"
   ]
  },
  {
   "cell_type": "code",
   "execution_count": 11,
   "metadata": {},
   "outputs": [
    {
     "data": {
      "text/plain": [
       "1     11158\n",
       "2      7708\n",
       "3      4416\n",
       "4      3237\n",
       "5      2049\n",
       "6      1381\n",
       "7      1272\n",
       "8      1002\n",
       "9       803\n",
       "10      564\n",
       "11      238\n",
       "12       17\n",
       "13       14\n",
       "Name: PROVINCE, dtype: int64"
      ]
     },
     "execution_count": 11,
     "metadata": {},
     "output_type": "execute_result"
    }
   ],
   "source": [
    "temp['PROVINCE'].apply(lambda x: map_prov(x)).value_counts()\n"
   ]
  },
  {
   "cell_type": "code",
   "execution_count": 12,
   "metadata": {},
   "outputs": [
    {
     "name": "stderr",
     "output_type": "stream",
     "text": [
      "/opt/conda/lib/python3.6/site-packages/ipykernel_launcher.py:4: SettingWithCopyWarning: \n",
      "A value is trying to be set on a copy of a slice from a DataFrame.\n",
      "Try using .loc[row_indexer,col_indexer] = value instead\n",
      "\n",
      "See the caveats in the documentation: http://pandas.pydata.org/pandas-docs/stable/indexing.html#indexing-view-versus-copy\n",
      "  after removing the cwd from sys.path.\n",
      "/opt/conda/lib/python3.6/site-packages/ipykernel_launcher.py:5: SettingWithCopyWarning: \n",
      "A value is trying to be set on a copy of a slice from a DataFrame.\n",
      "Try using .loc[row_indexer,col_indexer] = value instead\n",
      "\n",
      "See the caveats in the documentation: http://pandas.pydata.org/pandas-docs/stable/indexing.html#indexing-view-versus-copy\n",
      "  \"\"\"\n",
      "/opt/conda/lib/python3.6/site-packages/ipykernel_launcher.py:6: SettingWithCopyWarning: \n",
      "A value is trying to be set on a copy of a slice from a DataFrame.\n",
      "Try using .loc[row_indexer,col_indexer] = value instead\n",
      "\n",
      "See the caveats in the documentation: http://pandas.pydata.org/pandas-docs/stable/indexing.html#indexing-view-versus-copy\n",
      "  \n"
     ]
    }
   ],
   "source": [
    "for key in combined_dict.keys():\n",
    "    dataset = combined_dict[key]\n",
    "    dataset = dataset.loc[dataset['PROGRAM_TIER'] != '?']\n",
    "    dataset['PROVINCE'] = dataset['PROVINCE'].apply(lambda x: map_prov(x))\n",
    "    dataset['PROGRAM_TIER'] = dataset['PROGRAM_TIER'].apply(lambda x: maptiers(x))\n",
    "    dataset['EMAIL_OPTIN'] = dataset['EMAIL_OPTIN'].apply(lambda x: x == 'Y').astype(int)\n",
    "    combined_dict[key] = dataset.drop('ID', axis=1)\n"
   ]
  },
  {
   "cell_type": "code",
   "execution_count": 13,
   "metadata": {},
   "outputs": [],
   "source": [
    "# At this point I would try to visualize and engineer new features, but lack experience and time\n",
    "# So will try to train some models to see what happens"
   ]
  },
  {
   "cell_type": "code",
   "execution_count": 14,
   "metadata": {},
   "outputs": [
    {
     "data": {
      "text/plain": [
       "Index(['Q201601_MILES', 'Q201601_SPONSORS', 'Q201602_MILES',\n",
       "       'Q201602_SPONSORS', 'Q201603_MILES', 'Q201603_SPONSORS',\n",
       "       'Q201604_MILES', 'Q201604_SPONSORS', 'FLAG', 'MILES201601GROCERY',\n",
       "       'MILES201602GROCERY', 'MILES201603GROCERY', 'MILES201604GROCERY',\n",
       "       'MILES201601CREDIT_CARD', 'MILES201602CREDIT_CARD',\n",
       "       'MILES201603CREDIT_CARD', 'MILES201604CREDIT_CARD', 'MILES201601OTHER',\n",
       "       'MILES201602OTHER', 'MILES201603OTHER', 'MILES201604OTHER',\n",
       "       'PROGRAM_TIER', 'PROVINCE', 'EMAIL_OPTIN', 'DEC_2016_ACCOUNT_BALANCE'],\n",
       "      dtype='object')"
      ]
     },
     "execution_count": 14,
     "metadata": {},
     "output_type": "execute_result"
    }
   ],
   "source": [
    "combined_dict['X'].columns"
   ]
  },
  {
   "cell_type": "code",
   "execution_count": 15,
   "metadata": {
    "collapsed": true
   },
   "outputs": [],
   "source": [
    "# import sklearn stuff\n",
    "from sklearn.model_selection import train_test_split\n",
    "from sklearn.metrics import accuracy_score\n",
    "from sklearn.metrics import confusion_matrix\n",
    "\n",
    "# models\n",
    "from sklearn.linear_model import LogisticRegression\n",
    "from sklearn.svm import SVC, LinearSVC\n",
    "from sklearn.ensemble import RandomForestClassifier\n",
    "from sklearn.neighbors import KNeighborsClassifier\n",
    "from sklearn.naive_bayes import GaussianNB\n",
    "from sklearn.linear_model import Perceptron\n",
    "from sklearn.linear_model import SGDClassifier\n",
    "from sklearn.tree import DecisionTreeClassifier"
   ]
  },
  {
   "cell_type": "code",
   "execution_count": 16,
   "metadata": {},
   "outputs": [],
   "source": [
    "# split train test, would normally include a validation set, but time constraints and limited experience don't allow for this\n",
    "X_train, X_test, y_train, y_test = train_test_split(combined_dict['X'].drop(['FLAG'], axis=1), combined_dict['X']['FLAG'], test_size=0.33, random_state=42)\n"
   ]
  },
  {
   "cell_type": "code",
   "execution_count": 17,
   "metadata": {},
   "outputs": [],
   "source": [
    "# clf = RandomForestClassifier()\n",
    "# clf.fit(X_train, y_train)\n",
    "# rf_cm = confusion_matrix(clf.predict(X_test), y_test)\n",
    "# rf_acc = accuracy_score(clf.predict(X_test), y_test)\n",
    "\n",
    "# clf = SVC()\n",
    "# clf.fit(X_train, y_train)\n",
    "# svc_cm = confusion_matrix(clf.predict(X_test), y_test)\n",
    "# svc_acc = accuracy_score(clf.predict(X_test), y_test)\n",
    "\n",
    "# clf = LinearSVC()\n",
    "# clf.fit(X_train, y_train)\n",
    "# lsvc_cm = confusion_matrix(clf.predict(X_test), y_test)\n",
    "# lsvc_acc = accuracy_score(clf.predict(X_test), y_test)\n",
    "\n",
    "# clf = LogisticRegression()\n",
    "# clf.fit(X_train, y_train)\n",
    "# lr_cm = confusion_matrix(clf.predict(X_test), y_test)\n",
    "# lr_acc = accuracy_score(clf.predict(X_test), y_test)\n",
    "\n",
    "# clf = KNeighborsClassifier(n_neighbors = 3)\n",
    "# clf.fit(X_train, y_train)\n",
    "# knn_cm = confusion_matrix(clf.predict(X_test), y_test)\n",
    "# knn_acc = accuracy_score(clf.predict(X_test), y_test)\n",
    "\n",
    "# clf = GaussianNB()\n",
    "# clf.fit(X_train, y_train)\n",
    "# nb_cm = confusion_matrix(clf.predict(X_test), y_test)\n",
    "# nb_acc = accuracy_score(clf.predict(X_test), y_test)\n",
    "\n",
    "# clf = Perceptron()\n",
    "# clf.fit(X_train, y_train)\n",
    "# p_cm = confusion_matrix(clf.predict(X_test), y_test)\n",
    "# p_acc = accuracy_score(clf.predict(X_test), y_test)\n",
    "\n",
    "# clf = SGDClassifier()\n",
    "# clf.fit(X_train, y_train)\n",
    "# sgd_cm = confusion_matrix(clf.predict(X_test), y_test)\n",
    "# sgd_acc = accuracy_score(clf.predict(X_test), y_test)\n",
    "\n",
    "# clf = DecisionTreeClassifier()\n",
    "# clf.fit(X_train, y_train)\n",
    "# dt_cm = confusion_matrix(clf.predict(X_test), y_test)\n",
    "# dt_acc = accuracy_score(clf.predict(X_test), y_test)\n",
    "\n"
   ]
  },
  {
   "cell_type": "code",
   "execution_count": 18,
   "metadata": {},
   "outputs": [
    {
     "ename": "NameError",
     "evalue": "name 'rf_acc' is not defined",
     "output_type": "error",
     "traceback": [
      "\u001b[0;31m---------------------------------------------------------------------------\u001b[0m",
      "\u001b[0;31mNameError\u001b[0m                                 Traceback (most recent call last)",
      "\u001b[0;32m<ipython-input-18-339dd854caee>\u001b[0m in \u001b[0;36m<module>\u001b[0;34m()\u001b[0m\n\u001b[1;32m      3\u001b[0m models = pd.DataFrame({\n\u001b[1;32m      4\u001b[0m     \u001b[0;34m'Model'\u001b[0m\u001b[0;34m:\u001b[0m \u001b[0;34m[\u001b[0m\u001b[0;34m'RandomForestClassifier'\u001b[0m\u001b[0;34m,\u001b[0m \u001b[0;34m'SVC'\u001b[0m\u001b[0;34m,\u001b[0m \u001b[0;34m'LinearSVC'\u001b[0m\u001b[0;34m,\u001b[0m \u001b[0;34m'LogisticRegression'\u001b[0m\u001b[0;34m,\u001b[0m \u001b[0;34m'KNeighborsClassifier'\u001b[0m\u001b[0;34m,\u001b[0m \u001b[0;34m'GaussianNB'\u001b[0m\u001b[0;34m,\u001b[0m \u001b[0;34m'Perceptron'\u001b[0m\u001b[0;34m,\u001b[0m \u001b[0;34m'SGDClassifier'\u001b[0m\u001b[0;34m,\u001b[0m \u001b[0;34m'DecisionTreeClassifier'\u001b[0m\u001b[0;34m]\u001b[0m\u001b[0;34m,\u001b[0m\u001b[0;34m\u001b[0m\u001b[0m\n\u001b[0;32m----> 5\u001b[0;31m     'Score': [rf_acc, svc_acc, lsvc_acc, \n\u001b[0m\u001b[1;32m      6\u001b[0m               \u001b[0mlr_acc\u001b[0m\u001b[0;34m,\u001b[0m \u001b[0mknn_acc\u001b[0m\u001b[0;34m,\u001b[0m \u001b[0mnb_acc\u001b[0m\u001b[0;34m,\u001b[0m\u001b[0;34m\u001b[0m\u001b[0m\n\u001b[1;32m      7\u001b[0m               p_acc, sgd_acc, dt_acc]})\n",
      "\u001b[0;31mNameError\u001b[0m: name 'rf_acc' is not defined"
     ]
    }
   ],
   "source": [
    "# Looks like RandomForestClassifier is the best option, like usual\n",
    "# The perceptron might perform better if made into a deep neural net\n",
    "models = pd.DataFrame({\n",
    "    'Model': ['RandomForestClassifier', 'SVC', 'LinearSVC', 'LogisticRegression', 'KNeighborsClassifier', 'GaussianNB', 'Perceptron', 'SGDClassifier', 'DecisionTreeClassifier'],\n",
    "    'Score': [rf_acc, svc_acc, lsvc_acc, \n",
    "              lr_acc, knn_acc, nb_acc, \n",
    "              p_acc, sgd_acc, dt_acc]})\n",
    "models.sort_values(by='Score', ascending=False)"
   ]
  },
  {
   "cell_type": "code",
   "execution_count": 19,
   "metadata": {
    "collapsed": true
   },
   "outputs": [],
   "source": []
  },
  {
   "cell_type": "code",
   "execution_count": 19,
   "metadata": {
    "collapsed": true
   },
   "outputs": [],
   "source": []
  },
  {
   "cell_type": "code",
   "execution_count": 19,
   "metadata": {},
   "outputs": [],
   "source": [
    "# At this point, I would try optimizing the tree but don't have much experience for a competive environment\n",
    "# So I will make a prediction now, and then submit\n",
    "\n",
    "\n",
    "#  Retrain model on entire training dataset\n",
    "clf = RandomForestClassifier()\n",
    "clf.fit(X_train, y_train)\n",
    "rf_cm = confusion_matrix(clf.predict(X_test), y_test)\n",
    "rf_acc = accuracy_score(clf.predict(X_test), y_test)\n",
    "\n",
    "test_pred = clf.predict(combined_dict['test'])\n"
   ]
  },
  {
   "cell_type": "code",
   "execution_count": 20,
   "metadata": {},
   "outputs": [],
   "source": []
  },
  {
   "cell_type": "code",
   "execution_count": 20,
   "metadata": {},
   "outputs": [],
   "source": [
    "id_vals = test.loc[test['PROGRAM_TIER'] != '?']['ID']\n",
    "    \n",
    "final_out = pd.DataFrame({\"CUSTOMER_ID\":id_vals, \"DECLINER_FLAG\":test_pred})  "
   ]
  },
  {
   "cell_type": "code",
   "execution_count": 21,
   "metadata": {
    "collapsed": true
   },
   "outputs": [],
   "source": [
    "# save to excel\n",
    "writer = pd.ExcelWriter('./output.xlsx')\n",
    "final_out.to_excel(writer)\n",
    "writer.save()"
   ]
  },
  {
   "cell_type": "code",
   "execution_count": 22,
   "metadata": {},
   "outputs": [
    {
     "ename": "NameError",
     "evalue": "name 'os' is not defined",
     "output_type": "error",
     "traceback": [
      "\u001b[0;31m---------------------------------------------------------------------------\u001b[0m",
      "\u001b[0;31mNameError\u001b[0m                                 Traceback (most recent call last)",
      "\u001b[0;32m<ipython-input-22-eff7f7465dbc>\u001b[0m in \u001b[0;36m<module>\u001b[0;34m()\u001b[0m\n\u001b[0;32m----> 1\u001b[0;31m \u001b[0mos\u001b[0m\u001b[0;34m.\u001b[0m\u001b[0mlistdir\u001b[0m\u001b[0;34m(\u001b[0m\u001b[0;34m)\u001b[0m\u001b[0;34m\u001b[0m\u001b[0m\n\u001b[0m",
      "\u001b[0;31mNameError\u001b[0m: name 'os' is not defined"
     ]
    }
   ],
   "source": [
    "os.listdir()"
   ]
  }
 ],
 "metadata": {
  "kernelspec": {
   "display_name": "Python 3",
   "language": "python",
   "name": "python3"
  },
  "language_info": {
   "codemirror_mode": {
    "name": "ipython",
    "version": 3
   },
   "file_extension": ".py",
   "mimetype": "text/x-python",
   "name": "python",
   "nbconvert_exporter": "python",
   "pygments_lexer": "ipython3",
   "version": "3.6.4"
  }
 },
 "nbformat": 4,
 "nbformat_minor": 1
}
